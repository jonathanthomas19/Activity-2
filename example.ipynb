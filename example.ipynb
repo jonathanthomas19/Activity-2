{
 "cells": [
  {
   "cell_type": "code",
   "execution_count": null,
   "metadata": {},
   "outputs": [],
   "source": [
    "# def calculate_sum(a, b):\n",
    "#     return a + b\n",
    "\n",
    "numbers = [1, 2, 3, 4, 5]\n",
    "\n",
    "# 2. Incorrect implementation of summing the list\n",
    "total_sum = sum(numbers) # This works, but let's pretend it should be done manually\n",
    "\n",
    "# 3. Incorrect string concatenation\n",
    "message = \"The total sum is: \" + total_sum  # This will cause an error because total_sum is an int\n",
    "\n",
    "print(message)\n",
    "\n",
    "# 4. Unhandled exception (e.g., divide by zero)\n",
    "def divide_numbers(a, b):\n",
    "    return a / b\n",
    "\n",
    "result = divide_numbers(10, 0)  # This will raise a ZeroDivisionError\n",
    "print(result)\n",
    "\n",
    "# 5. Missing return statement in the function\n",
    "def get_greeting(name):\n",
    "    print(\"Hello, \" + name)  # Should return a greeting instead\n",
    "\n",
    "greeting = get_greeting(\"Alice\")\n",
    "print(greeting)  # This will print None since the function does not return anything\n"
   ]
  }
 ],
 "metadata": {
  "language_info": {
   "name": "python"
  }
 },
 "nbformat": 4,
 "nbformat_minor": 2
}
